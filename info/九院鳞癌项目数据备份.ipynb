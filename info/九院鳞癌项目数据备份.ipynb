{
 "cells": [
  {
   "cell_type": "markdown",
   "metadata": {},
   "source": [
    "针对/media/ldy/7E1CA94545711AE6　移动硬盘"
   ]
  },
  {
   "cell_type": "markdown",
   "metadata": {},
   "source": [
    "# oscc"
   ]
  },
  {
   "cell_type": "code",
   "execution_count": 3,
   "metadata": {},
   "outputs": [],
   "source": [
    "import os\n",
    "import json"
   ]
  },
  {
   "cell_type": "code",
   "execution_count": 2,
   "metadata": {},
   "outputs": [
    {
     "name": "stdout",
     "output_type": "stream",
     "text": [
      "213\n",
      "126\n"
     ]
    }
   ],
   "source": [
    "src = '/media/ldy/7E1CA94545711AE6/OSCC/wsi/svs_40x/'\n",
    "li = os.listdir(src)\n",
    "print(len(li))\n",
    "li_svs = 0\n",
    "for c in li:\n",
    "    if c.endswith(\"svs\"):\n",
    "        li_svs += 1\n",
    "print(li_svs)"
   ]
  },
  {
   "cell_type": "code",
   "execution_count": 4,
   "metadata": {},
   "outputs": [
    {
     "name": "stdout",
     "output_type": "stream",
     "text": [
      "87\n"
     ]
    }
   ],
   "source": [
    "with open('/media/ldy/7E1CA94545711AE6/OSCC/meta/slide_dict.json', 'r') as f:\n",
    "    slide_dict = json.load(f)\n",
    "n = len(slide_dict.keys())\n",
    "print(n)"
   ]
  },
  {
   "cell_type": "code",
   "execution_count": 6,
   "metadata": {},
   "outputs": [
    {
     "name": "stdout",
     "output_type": "stream",
     "text": [
      "87\n"
     ]
    }
   ],
   "source": [
    "with open('/media/ldy/7E1CA94545711AE6/OSCC/meta/slide_info.json', 'r') as f:\n",
    "    slide_info = json.load(f)\n",
    "n = len(slide_info)\n",
    "print(n)"
   ]
  },
  {
   "cell_type": "code",
   "execution_count": 7,
   "metadata": {},
   "outputs": [
    {
     "name": "stdout",
     "output_type": "stream",
     "text": [
      "87\n"
     ]
    }
   ],
   "source": [
    "with open('/media/ldy/7E1CA94545711AE6/OSCC/meta/slide_size.json', 'r') as f:\n",
    "    slide_size = json.load(f)\n",
    "n = len(slide_size)\n",
    "print(n)"
   ]
  },
  {
   "cell_type": "code",
   "execution_count": 13,
   "metadata": {},
   "outputs": [
    {
     "name": "stdout",
     "output_type": "stream",
     "text": [
      "['2016-01459-2.xml', '2016-01459-3.xml', '2016-01459-4.xml', '2016-01459-5.xml', '2016-01459-6.xml', '2016-01459.xml', '2017-05588.xml', '2017-11739.xml', '2017-12386.xml', '2017-12889.xml', '2017-13252.xml', '2017-13472.xml', '2018-04805.xml', '2018-15902.xml', '2018-16058.xml', '2018-16078-2.xml', '2018-16078.xml', '2018-16140-2.xml', '2018-16140.xml', '2018-16187.xml', '2018-16612-2.xml', '2018-16612-3.xml', '2018-16612.xml', '2018-16936.xml', '2018-16959.xml', '2019-00102.xml', '2019-00113.xml', '2019-00258-2.xml', '2019-00258-3.xml', '2019-00258.xml', '2019-00327-2.xml', '2019-00327-3.xml', '2019-00327.xml', '2019-00334.xml', '2019-00415.xml', '2019-00890-2.xml', '2019-00890-3.xml', '2019-00890-4.xml', '2019-00890.xml', '2019-00898-2.xml', '2019-00898-3.xml', '2019-00898.xml', '2019-01014-2.xml', '2019-01014.xml', '2019-01279-2.xml', '2019-01279.xml', '2019-01487-2.xml', '2019-01487.xml', '2019-01581-2.xml', '2019-01581-3.xml', '2019-01581-4.xml', '2019-01581-5.xml', '2019-01581.xml', '2019-01588-2.xml', '2019-01588.xml', '2019-01665-2.xml', '2019-01665.xml', '2019-01708.xml', '2019-02267-2.xml', '2019-02267.xml', '2019-02399-2.xml', '2019-02399.xml', '2019-02666-2.xml', '2019-02666-3.xml', '2019-02666-4.xml', '2019-02666.xml', '2019-02833-2.xml', '2019-02833-3.xml', '2019-02833.xml', '2019-03200-2.xml', '2019-03200.xml', '2019-03210.xml', '2019-03265.xml', '2019-03276.xml', '2019-03325.xml', '2019-03330-2.xml', '2019-03330.xml', '2019-03407-2.xml', '2019-03407.xml', '2019-03563-2.xml', '2019-03563.xml', '2019-03647.xml', '2019-04125.xml', '2019-04127.xml', '2019-04343.xml', '2019-15984.xml', '2019-16619.xml']\n"
     ]
    }
   ],
   "source": [
    "li_40_id = [c for c in li if c.endswith('xml')]\n",
    "print(sorted(li_40_id))"
   ]
  },
  {
   "cell_type": "code",
   "execution_count": 14,
   "metadata": {},
   "outputs": [],
   "source": [
    "with open('/media/ldy/7E1CA94545711AE6/OSCC/2.5x_tile/2.5x_640/train_coarse_fine.json', 'r') as f:\n",
    "    train_coarse_fine = json.load(f)\n"
   ]
  },
  {
   "cell_type": "code",
   "execution_count": null,
   "metadata": {},
   "outputs": [],
   "source": []
  },
  {
   "cell_type": "code",
   "execution_count": 18,
   "metadata": {},
   "outputs": [
    {
     "data": {
      "text/plain": [
       "23"
      ]
     },
     "execution_count": 18,
     "metadata": {},
     "output_type": "execute_result"
    }
   ],
   "source": [
    "len(train_coarse_fine['fine'])"
   ]
  },
  {
   "cell_type": "code",
   "execution_count": 24,
   "metadata": {},
   "outputs": [],
   "source": [
    "with open('/media/ldy/7E1CA94545711AE6/OSCC/5x_tile/5x_1000/train_val_part.json', 'r') as f:\n",
    "    train_val = json.load(f)\n"
   ]
  },
  {
   "cell_type": "code",
   "execution_count": 26,
   "metadata": {},
   "outputs": [
    {
     "data": {
      "text/plain": [
       "108"
      ]
     },
     "execution_count": 26,
     "metadata": {},
     "output_type": "execute_result"
    }
   ],
   "source": [
    "len(train_val['train'])"
   ]
  },
  {
   "cell_type": "code",
   "execution_count": 27,
   "metadata": {},
   "outputs": [
    {
     "name": "stdout",
     "output_type": "stream",
     "text": [
      "<class 'pandas.core.frame.DataFrame'>\n",
      "RangeIndex: 6117 entries, 0 to 6116\n",
      "Data columns (total 5 columns):\n",
      " #   Column      Non-Null Count  Dtype \n",
      "---  ------      --------------  ----- \n",
      " 0   Unnamed: 0  6117 non-null   int64 \n",
      " 1   image_id    6117 non-null   object\n",
      " 2   slide_id    6117 non-null   object\n",
      " 3   row         6117 non-null   int64 \n",
      " 4   col         6117 non-null   int64 \n",
      "dtypes: int64(3), object(2)\n",
      "memory usage: 239.1+ KB\n",
      "None\n"
     ]
    }
   ],
   "source": [
    "import pandas as pd\n",
    "\n",
    "train_pd = pd.read_csv('/media/ldy/7E1CA94545711AE6/OSCC/5x_tile/5x_1000/train.csv')\n",
    "print(train_pd.info())"
   ]
  },
  {
   "cell_type": "code",
   "execution_count": 28,
   "metadata": {},
   "outputs": [
    {
     "name": "stdout",
     "output_type": "stream",
     "text": [
      "<class 'pandas.core.frame.DataFrame'>\n",
      "RangeIndex: 2069 entries, 0 to 2068\n",
      "Data columns (total 5 columns):\n",
      " #   Column      Non-Null Count  Dtype \n",
      "---  ------      --------------  ----- \n",
      " 0   Unnamed: 0  2069 non-null   int64 \n",
      " 1   image_id    2069 non-null   object\n",
      " 2   slide_id    2069 non-null   object\n",
      " 3   row         2069 non-null   int64 \n",
      " 4   col         2069 non-null   int64 \n",
      "dtypes: int64(3), object(2)\n",
      "memory usage: 80.9+ KB\n",
      "None\n"
     ]
    }
   ],
   "source": [
    "val_pd = pd.read_csv('/media/ldy/7E1CA94545711AE6/OSCC/5x_tile/5x_1000/val.csv')\n",
    "print(val_pd.info())"
   ]
  },
  {
   "cell_type": "markdown",
   "metadata": {},
   "source": [
    "# OSCC_FINE"
   ]
  },
  {
   "cell_type": "code",
   "execution_count": 29,
   "metadata": {},
   "outputs": [],
   "source": [
    "fine_svs_path = '/media/ldy/7E1CA94545711AE6/OSCC_FINE/wsi/svs'\n",
    "oscc_svs_path = '/media/ldy/7E1CA94545711AE6/OSCC/wsi/svs_20x'\n",
    "\n",
    "fine_li = [c for c in os.listdir(fine_svs_path) if c.endswith('svs')]\n",
    "oscc_li = [c for c in os.listdir(oscc_svs_path) if c.endswith('svs')]\n"
   ]
  },
  {
   "cell_type": "code",
   "execution_count": 30,
   "metadata": {},
   "outputs": [
    {
     "name": "stdout",
     "output_type": "stream",
     "text": [
      "2019-15984.svs\n"
     ]
    }
   ],
   "source": [
    "for c in fine_li:\n",
    "    if c not in oscc_li:\n",
    "        print(c)"
   ]
  },
  {
   "cell_type": "code",
   "execution_count": 34,
   "metadata": {},
   "outputs": [],
   "source": [
    "dd_tif_path = '/media/ldy/7E1CA94545711AE6/OSCC_FINE_TIF/丢弃/tif'\n",
    "dd_png_path = '/media/ldy/7E1CA94545711AE6/OSCC_FINE_TIF/丢弃/thumbnail'\n",
    "rm_path = '/media/ldy/7E1CA94545711AE6/OSCC_FINE_TIF/thumbnail'\n",
    "\n",
    "dd_tif_li = [c.split('.')[0] for c in os.listdir(dd_tif_path) if c.endswith('tif')]\n",
    "dd_png_li = [c.split('.')[0] for c in os.listdir(dd_png_path)]\n",
    "rm_li = [c.split('.')[0] for c in os.listdir(rm_path)]"
   ]
  },
  {
   "cell_type": "code",
   "execution_count": 33,
   "metadata": {},
   "outputs": [
    {
     "name": "stdout",
     "output_type": "stream",
     "text": [
      "2018-13135\n",
      "2018-15674\n",
      "2018-15886\n",
      "2018-15976\n",
      "2018-16112\n",
      "2018-16119\n"
     ]
    }
   ],
   "source": [
    "for c in dd_tif_li:\n",
    "    if c not in dd_png_li:\n",
    "        print(c)"
   ]
  },
  {
   "cell_type": "code",
   "execution_count": 37,
   "metadata": {},
   "outputs": [
    {
     "data": {
      "text/plain": [
       "30"
      ]
     },
     "execution_count": 37,
     "metadata": {},
     "output_type": "execute_result"
    }
   ],
   "source": [
    "len(rm_li)"
   ]
  },
  {
   "cell_type": "code",
   "execution_count": 40,
   "metadata": {},
   "outputs": [],
   "source": [
    "for c in dd_tif_li:\n",
    "    if c in rm_li:\n",
    "        print(c)"
   ]
  },
  {
   "cell_type": "markdown",
   "metadata": {},
   "source": [
    "# OSCC_DOI"
   ]
  },
  {
   "cell_type": "code",
   "execution_count": 44,
   "metadata": {},
   "outputs": [],
   "source": [
    "doi_svs_path = '/media/ldy/7E1CA94545711AE6/OSCC_DOI/svs/'\n",
    "oscc_svs_path = '/media/ldy/7E1CA94545711AE6/OSCC/wsi/svs_40x'"
   ]
  },
  {
   "cell_type": "code",
   "execution_count": 45,
   "metadata": {},
   "outputs": [],
   "source": [
    "doi_svs_li = os.listdir(doi_svs_path)\n",
    "li = os.listdir(oscc_svs_path)\n",
    "oscc_svs_li = []\n",
    "for c in li:\n",
    "    if c.endswith('svs'):\n",
    "        if c.split('.')[0]+'.xml' not in li:\n",
    "            oscc_svs_li.append(c)"
   ]
  },
  {
   "cell_type": "code",
   "execution_count": 46,
   "metadata": {},
   "outputs": [
    {
     "data": {
      "text/plain": [
       "39"
      ]
     },
     "execution_count": 46,
     "metadata": {},
     "output_type": "execute_result"
    }
   ],
   "source": [
    "len(oscc_svs_li)"
   ]
  },
  {
   "cell_type": "code",
   "execution_count": 47,
   "metadata": {},
   "outputs": [
    {
     "data": {
      "text/plain": [
       "True"
      ]
     },
     "execution_count": 47,
     "metadata": {},
     "output_type": "execute_result"
    }
   ],
   "source": [
    "doi_svs_li == oscc_svs_li"
   ]
  },
  {
   "cell_type": "markdown",
   "metadata": {},
   "source": [
    "# oscc-李"
   ]
  },
  {
   "cell_type": "code",
   "execution_count": 48,
   "metadata": {},
   "outputs": [],
   "source": [
    "mds_path = '/media/ldy/7E1CA94545711AE6/OSCC-李/MDS'\n",
    "rest_path = '/media/ldy/7E1CA94545711AE6/OSCC-李/rest'\n",
    "selected_path = '/media/ldy/7E1CA94545711AE6/OSCC-李/selected'\n",
    "bei_path = '/media/ldy/7E1CA94545711AE6/OSCC-李/备用'\n",
    "\n",
    "mds_li = os.listdir(mds_path)\n",
    "rest_li = [c.split('.')[0] for c in os.listdir(rest_path) if c.endswith('svs')]\n",
    "selected_li = [c.split('.')[0] for c in os.listdir(selected_path) if c.endswith('svs')]\n",
    "\n",
    "bei_li = [c.split('.')[0] for c in os.listdir(bei_path) if c.endswith('svs')]\n"
   ]
  },
  {
   "cell_type": "code",
   "execution_count": 49,
   "metadata": {},
   "outputs": [
    {
     "data": {
      "text/plain": [
       "(42, 106, 97, 42)"
      ]
     },
     "execution_count": 49,
     "metadata": {},
     "output_type": "execute_result"
    }
   ],
   "source": [
    "len(mds_li), len(rest_li), len(selected_li), len(bei_li)"
   ]
  },
  {
   "cell_type": "code",
   "execution_count": 51,
   "metadata": {},
   "outputs": [],
   "source": [
    "for c in mds_li:\n",
    "    if c in rest_li:\n",
    "        print('mds-rest   ', c)\n",
    "    if c in selected_li:\n",
    "        print('mds-selected    ', c)\n",
    "    if c in bei_li:\n",
    "        print('mds-bei    ', c)"
   ]
  },
  {
   "cell_type": "code",
   "execution_count": 56,
   "metadata": {},
   "outputs": [],
   "source": [
    "for c in rest_li:\n",
    "    if c in selected_li:\n",
    "        print('rest-selected    ', c)\n",
    "    if c in bei_li:\n",
    "        print('rest-bei    ', c)"
   ]
  },
  {
   "cell_type": "code",
   "execution_count": 57,
   "metadata": {},
   "outputs": [],
   "source": [
    "for c in selected_li:\n",
    "    if c in bei_li:\n",
    "        print('selected-bei    ', c)"
   ]
  },
  {
   "cell_type": "code",
   "execution_count": 62,
   "metadata": {},
   "outputs": [],
   "source": [
    "li_li = mds_li + rest_li + selected_li + bei_li"
   ]
  },
  {
   "cell_type": "code",
   "execution_count": 58,
   "metadata": {},
   "outputs": [],
   "source": [
    "oscc_svs_li = [c.split('.')[0] for c in os.listdir('/media/ldy/7E1CA94545711AE6/OSCC/wsi/svs_20x') if c.endswith('svs')]\n",
    "oscc_svs_li += [c.split('.')[0] for c in os.listdir('/media/ldy/7E1CA94545711AE6/OSCC/wsi/svs_40x') if c.endswith('svs')]\n"
   ]
  },
  {
   "cell_type": "code",
   "execution_count": 59,
   "metadata": {},
   "outputs": [
    {
     "data": {
      "text/plain": [
       "183"
      ]
     },
     "execution_count": 59,
     "metadata": {},
     "output_type": "execute_result"
    }
   ],
   "source": [
    "len(oscc_svs_li)"
   ]
  },
  {
   "cell_type": "code",
   "execution_count": 60,
   "metadata": {},
   "outputs": [],
   "source": [
    "oscc_tif_path = '/media/ldy/7E1CA94545711AE6/OSCC_FINE_TIF/wsi/tif'\n",
    "oscc_tif_li = [c.split('.')[0] for c in os.listdir(oscc_tif_path) if c.endswith('tif')]"
   ]
  },
  {
   "cell_type": "code",
   "execution_count": 61,
   "metadata": {},
   "outputs": [
    {
     "data": {
      "text/plain": [
       "30"
      ]
     },
     "execution_count": 61,
     "metadata": {},
     "output_type": "execute_result"
    }
   ],
   "source": [
    "len(oscc_tif_li)"
   ]
  },
  {
   "cell_type": "code",
   "execution_count": 69,
   "metadata": {},
   "outputs": [
    {
     "name": "stdout",
     "output_type": "stream",
     "text": [
      "0\n"
     ]
    }
   ],
   "source": [
    "n = 0\n",
    "for c in oscc_svs_li:\n",
    "    if c in bei_li:\n",
    "        print(c)\n",
    "        n += 1\n",
    "print(n)"
   ]
  },
  {
   "cell_type": "code",
   "execution_count": 70,
   "metadata": {},
   "outputs": [
    {
     "name": "stdout",
     "output_type": "stream",
     "text": [
      "0\n"
     ]
    }
   ],
   "source": [
    "n = 0\n",
    "for c in oscc_tif_li:\n",
    "    if c in li_li:\n",
    "        print(c)\n",
    "        n += 1\n",
    "print(n)"
   ]
  },
  {
   "cell_type": "code",
   "execution_count": null,
   "metadata": {},
   "outputs": [],
   "source": []
  },
  {
   "cell_type": "code",
   "execution_count": null,
   "metadata": {},
   "outputs": [],
   "source": []
  }
 ],
 "metadata": {
  "kernelspec": {
   "display_name": "Pytorch",
   "language": "python",
   "name": "pytorch"
  },
  "language_info": {
   "codemirror_mode": {
    "name": "ipython",
    "version": 3
   },
   "file_extension": ".py",
   "mimetype": "text/x-python",
   "name": "python",
   "nbconvert_exporter": "python",
   "pygments_lexer": "ipython3",
   "version": "3.6.7"
  }
 },
 "nbformat": 4,
 "nbformat_minor": 2
}
