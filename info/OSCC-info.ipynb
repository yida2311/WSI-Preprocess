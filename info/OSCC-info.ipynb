{
 "cells": [
  {
   "cell_type": "markdown",
   "metadata": {},
   "source": [
    "# 病理图像大小统计和可视化"
   ]
  },
  {
   "cell_type": "code",
   "execution_count": 8,
   "metadata": {},
   "outputs": [
    {
     "data": {
      "image/png": "[encoded data removed]",
      "text/plain": [
       "<Figure size 432x288 with 1 Axes>"
      ]
     },
     "metadata": {
      "needs_background": "light"
     },
     "output_type": "display_data"
    }
   ],
   "source": [
    "import os\n",
    "import cv2\n",
    "import matplotlib.pyplot as plt\n",
    "import numpy as np\n",
    "\n",
    "\n",
    "img_dir = '/media/ldy/7E1CA94545711AE6/OSCC-王/fine/processed data/full_anno/5x_filter/filtered_mask'\n",
    "x = []\n",
    "y = []\n",
    "for c in os.listdir(img_dir):\n",
    "    img = cv2.imread(os.path.join(img_dir, c))\n",
    "    h, w, _ = img.shape\n",
    "    x.append(w)\n",
    "    y.append(h)\n",
    "x = np.array(x)\n",
    "y = np.array(y)\n",
    "\n",
    "plt.scatter(x, y, s=5)\n",
    "plt.title('OSCC Size Distribution')\n",
    "plt.xlabel('width')\n",
    "plt.ylabel('height')\n",
    "plt.show()"
   ]
  },
  {
   "cell_type": "code",
   "execution_count": 9,
   "metadata": {},
   "outputs": [
    {
     "data": {
      "image/png": "[encoded data removed]",
      "text/plain": [
       "<Figure size 432x288 with 1 Axes>"
      ]
     },
     "metadata": {
      "needs_background": "light"
     },
     "output_type": "display_data"
    }
   ],
   "source": [
    "plt.figure()\n",
    "plt.scatter(x, y, s=7)\n",
    "plt.title('OSCC Size Distribution')\n",
    "plt.xlabel('width')\n",
    "plt.ylabel('height')\n",
    "plt.show()"
   ]
  },
  {
   "cell_type": "code",
   "execution_count": 11,
   "metadata": {},
   "outputs": [
    {
     "data": {
      "text/plain": [
       "5632.583333333334"
      ]
     },
     "execution_count": 11,
     "metadata": {},
     "output_type": "execute_result"
    }
   ],
   "source": [
    "(np.mean(x) + np.mean(y)) / 2"
   ]
  },
  {
   "cell_type": "code",
   "execution_count": 9,
   "metadata": {},
   "outputs": [],
   "source": [
    "import pandas as pd\n",
    "\n",
    "xlsx_path = '/media/ldy/7E1CA94545711AE6/OSCC/口腔鳞癌数据集情况统计.xlsx'\n",
    "histo_term = '病理号'  # 1\n",
    "tumor_term = '肿瘤分布' # 3\n",
    "anno_term = '标注程度' # 4\n",
    "data_meta = pd.read_excel(xlsx_path)"
   ]
  },
  {
   "cell_type": "markdown",
   "metadata": {},
   "source": [
    "# 病人统计"
   ]
  },
  {
   "cell_type": "code",
   "execution_count": 36,
   "metadata": {},
   "outputs": [],
   "source": [
    "histo = data_meta[histo_term]\n",
    "ids = {}  #　病理号－文件名字典\n",
    "for c in histo:\n",
    "    sp = c.split('-')\n",
    "    if len(sp) == 2:\n",
    "        k = c\n",
    "    else:\n",
    "        k = sp[0] + '-' + sp[1]\n",
    "    if k not in ids.keys():\n",
    "        ids[k] = [c]\n",
    "    else:\n",
    "        ids[k].append(c)"
   ]
  },
  {
   "cell_type": "code",
   "execution_count": 38,
   "metadata": {},
   "outputs": [
    {
     "data": {
      "text/plain": [
       "114"
      ]
     },
     "execution_count": 38,
     "metadata": {},
     "output_type": "execute_result"
    }
   ],
   "source": [
    "len(ids.keys())  #病人数量"
   ]
  },
  {
   "cell_type": "code",
   "execution_count": 42,
   "metadata": {},
   "outputs": [
    {
     "data": {
      "text/plain": [
       "Text(0.5, 1.0, 'id-patients distribution')"
      ]
     },
     "execution_count": 42,
     "metadata": {},
     "output_type": "execute_result"
    },
    {
     "data": {
      "image/png": "[encoded data removed]",
      "text/plain": [
       "<Figure size 432x288 with 1 Axes>"
      ]
     },
     "metadata": {
      "needs_background": "light"
     },
     "output_type": "display_data"
    }
   ],
   "source": [
    "num_per_patient = [len(v) for v in ids.values()]\n",
    "\n",
    "plt.figure()\n",
    "plt.hist(num_per_patient, bins=6)\n",
    "plt.xlabel('num of patients')\n",
    "plt.ylabel('num of ids w.r.t num of patients')\n",
    "plt.title('id-patients distribution')"
   ]
  },
  {
   "cell_type": "markdown",
   "metadata": {},
   "source": [
    "# 训练集、验证集选择"
   ]
  },
  {
   "cell_type": "code",
   "execution_count": 22,
   "metadata": {},
   "outputs": [],
   "source": [
    "info = {}\n",
    "for c in data_meta.itertuples():\n",
    "    if c[6] != '2019_test':  #尚未标注，无法使用\n",
    "        info[c[1]] = tuple([c[3], int(c[4])])"
   ]
  },
  {
   "cell_type": "code",
   "execution_count": 25,
   "metadata": {},
   "outputs": [
    {
     "data": {
      "text/plain": [
       "144"
      ]
     },
     "execution_count": 25,
     "metadata": {},
     "output_type": "execute_result"
    }
   ],
   "source": [
    "len(info.keys())   #样本数量, 训练集108, 测试集36"
   ]
  },
  {
   "cell_type": "code",
   "execution_count": 47,
   "metadata": {},
   "outputs": [],
   "source": [
    "dense = []\n",
    "distributed = []\n",
    "sparse = []\n",
    "undiffered = []\n",
    "cavity = []\n",
    "\n",
    "for k, v in info.items():\n",
    "    if isinstance(v[0], int):\n",
    "        if v[0] == 1:\n",
    "            dense.append((k, v[1]))\n",
    "        elif v[0] == 2:\n",
    "            distributed.append((k, v[1]))\n",
    "        elif v[0] == 3:\n",
    "            sparse.append((k, v[1]))\n",
    "        elif v[0] == 4:\n",
    "            undiffered.append((k, v[1]))\n",
    "        elif v[0] == 5:\n",
    "            cavity.append((k, v[1]))\n",
    "    else:\n",
    "        sp = v[0].split('+')\n",
    "        t1, t2 = int(sp[0]), int(sp[1])\n",
    "        if t1 == 1 or t2 == 1:\n",
    "            dense.append((k, v[1]))\n",
    "        if t1 == 2 or t2 == 2:\n",
    "            distributed.append((k, v[1]))\n",
    "        if t1 == 3 or t2 == 3:\n",
    "            sparse.append((k, v[1]))\n",
    "        if t1 == 4 or t2 == 4:\n",
    "            undiffered.append((k, v[1]))\n",
    "        if t1 == 5 or t2 == 5:\n",
    "            cavity.append((k, v[1]))"
   ]
  },
  {
   "cell_type": "code",
   "execution_count": 48,
   "metadata": {},
   "outputs": [
    {
     "name": "stdout",
     "output_type": "stream",
     "text": [
      "82 23 18 9 22\n"
     ]
    }
   ],
   "source": [
    "print(len(dense), len(distributed), len(sparse), len(undiffered), len(cavity))\n",
    "# 19 6 4 2 5 "
   ]
  },
  {
   "cell_type": "code",
   "execution_count": 29,
   "metadata": {},
   "outputs": [],
   "source": [
    "coarse = []\n",
    "standard = []\n",
    "fine = []\n",
    "\n",
    "for k, v in info.items():\n",
    "    if v[1] == 1:\n",
    "        standard.append((k, v[0]))\n",
    "    elif v[1] == 2:\n",
    "        fine.append((k, v[0]))\n",
    "    else:\n",
    "        coarse.append((k, v[0]))"
   ]
  },
  {
   "cell_type": "code",
   "execution_count": 30,
   "metadata": {},
   "outputs": [
    {
     "name": "stdout",
     "output_type": "stream",
     "text": [
      "26 70 48\n"
     ]
    }
   ],
   "source": [
    "print(len(coarse), len(standard), len(fine))"
   ]
  },
  {
   "cell_type": "code",
   "execution_count": 52,
   "metadata": {},
   "outputs": [
    {
     "name": "stdout",
     "output_type": "stream",
     "text": [
      "[23, 7, 9, 4, 7]\n"
     ]
    }
   ],
   "source": [
    "space = [0]*5\n",
    "for c in fine:\n",
    "    if isinstance(c[1], int):\n",
    "        space[c[1]-1] += 1\n",
    "    else:\n",
    "        space[int(c[1][0])-1] += 1\n",
    "        space[int(c[1][2])-1] += 1\n",
    "print(space)"
   ]
  },
  {
   "cell_type": "code",
   "execution_count": 53,
   "metadata": {},
   "outputs": [
    {
     "name": "stdout",
     "output_type": "stream",
     "text": [
      "[47, 10, 4, 4, 11]\n"
     ]
    }
   ],
   "source": [
    "space = [0]*5\n",
    "for c in standard:\n",
    "    if isinstance(c[1], int):\n",
    "        space[c[1]-1] += 1\n",
    "    else:\n",
    "        space[int(c[1][0])-1] += 1\n",
    "        space[int(c[1][2])-1] += 1\n",
    "print(space)"
   ]
  },
  {
   "cell_type": "code",
   "execution_count": 54,
   "metadata": {},
   "outputs": [
    {
     "data": {
      "text/plain": [
       "[('2017-05588', 1),\n",
       " ('2019-00890', 1),\n",
       " ('2019-00898-3', 1),\n",
       " ('2019-01014-2', 1),\n",
       " ('2019-01279', 1),\n",
       " ('2019-01487-2', 1),\n",
       " ('2019-01588', 3),\n",
       " ('2019-01665', 3),\n",
       " ('2019-02267-2', 1),\n",
       " ('2019-02666-2', 3),\n",
       " ('2019-02666-3', 3),\n",
       " ('2019-03330', 3),\n",
       " ('2019-16619', 1),\n",
       " ('2020-07451', 1),\n",
       " ('2020-07484-2', 1),\n",
       " ('2020-07512', 2),\n",
       " ('2020-07764', 1),\n",
       " ('2020-07769-2', 2),\n",
       " ('2020-07912', 1),\n",
       " ('2020-07912-2', 1),\n",
       " ('2020-07916', 1),\n",
       " ('2020-07933', 3),\n",
       " ('2020-08200', 5),\n",
       " ('2020-08200-2', 1),\n",
       " ('2020-08348', 1),\n",
       " ('2020-08348-2', 2),\n",
       " ('2020-08370', 1),\n",
       " ('2020-08595', 4),\n",
       " ('2020-08595-2', 4),\n",
       " ('2020-08595-3', 4),\n",
       " ('2020-08752-2', 1),\n",
       " ('2020-08808-2', 5),\n",
       " ('2020-08812-2', 1),\n",
       " ('2020-09017', '2+5'),\n",
       " ('2020-09043', '1+3'),\n",
       " ('2020-09387', 5),\n",
       " ('2020-09612', 3),\n",
       " ('2020-09613', 1),\n",
       " ('2020-09692', 2),\n",
       " ('2020-09692-3', 2),\n",
       " ('2020-09692-7', 5),\n",
       " ('2020-09837', 3),\n",
       " ('2020-10140', 1),\n",
       " ('2020-10463-2', 5),\n",
       " ('2020-10519', 1),\n",
       " ('2020-10759', 5),\n",
       " ('2020-10759-3', 4),\n",
       " ('2020-10769', 2)]"
      ]
     },
     "execution_count": 54,
     "metadata": {},
     "output_type": "execute_result"
    }
   ],
   "source": [
    "fine"
   ]
  },
  {
   "cell_type": "code",
   "execution_count": 57,
   "metadata": {},
   "outputs": [
    {
     "name": "stdout",
     "output_type": "stream",
     "text": [
      "[('2020-09017', '2+5'), ('2020-10759', 5), ('2020-09692-7', 5), ('2020-08812-2', 1), ('2020-07933', 3), ('2020-10140', 1), ('2019-03330', 3), ('2020-09387', 5), ('2020-08370', 1), ('2020-08348-2', 2), ('2020-10519', 1), ('2020-07451', 1), ('2020-08595-2', 4), ('2020-09837', 3), ('2019-00898-3', 1), ('2020-08200-2', 1), ('2019-01487-2', 1), ('2020-08348', 1), ('2017-05588', 1), ('2020-07912', 1), ('2019-02267-2', 1), ('2020-07512', 2), ('2019-02666-2', 3), ('2020-07484-2', 1), ('2020-08752-2', 1), ('2019-01279', 1), ('2019-01014-2', 1), ('2020-08595', 4), ('2020-08200', 5), ('2019-02666-3', 3)]\n"
     ]
    }
   ],
   "source": [
    "import random\n",
    "\n",
    "random.shuffle(fine)\n",
    "print(fine[:30])"
   ]
  },
  {
   "cell_type": "code",
   "execution_count": 58,
   "metadata": {},
   "outputs": [
    {
     "name": "stdout",
     "output_type": "stream",
     "text": [
      "[16, 3, 5, 2, 5]\n"
     ]
    }
   ],
   "source": [
    "space = [0]*5\n",
    "for c in fine[:30]:\n",
    "    if isinstance(c[1], int):\n",
    "        space[c[1]-1] += 1\n",
    "    else:\n",
    "        space[int(c[1][0])-1] += 1\n",
    "        space[int(c[1][2])-1] += 1\n",
    "print(space)"
   ]
  },
  {
   "cell_type": "markdown",
   "metadata": {},
   "source": [
    "## 分析现有验证集"
   ]
  },
  {
   "cell_type": "code",
   "execution_count": 84,
   "metadata": {},
   "outputs": [
    {
     "name": "stdout",
     "output_type": "stream",
     "text": [
      "Pandas(Index=0, 病理号='2016-01459', 颜色风格=2, 肿瘤分布=1, 标注程度=1, 文件名=20190404173751.0, 来源=2019.0, 描述=nan, cut=1.0, 测试集=nan)\n",
      "Pandas(Index=1, 病理号='2016-01459-2', 颜色风格=2, 肿瘤分布=1, 标注程度=1, 文件名=20190409135946.0, 来源=2019.0, 描述=nan, cut=1.0, 测试集=nan)\n",
      "Pandas(Index=2, 病理号='2016-01459-3', 颜色风格=2, 肿瘤分布=1, 标注程度=1, 文件名=20190409141622.0, 来源=2019.0, 描述=nan, cut=nan, 测试集=nan)\n",
      "Pandas(Index=3, 病理号='2016-01459-4', 颜色风格=2, 肿瘤分布=1, 标注程度=1, 文件名=20190412133705.0, 来源=2019.0, 描述=nan, cut=nan, 测试集=nan)\n",
      "Pandas(Index=4, 病理号='2016-01459-5', 颜色风格=2, 肿瘤分布=1, 标注程度=1, 文件名=20190412133715.0, 来源=2019.0, 描述=nan, cut=nan, 测试集=nan)\n",
      "Pandas(Index=5, 病理号='2016-01459-6', 颜色风格=2, 肿瘤分布=5, 标注程度=3, 文件名=20190412133725.0, 来源=2019.0, 描述=nan, cut=nan, 测试集=nan)\n",
      "Pandas(Index=6, 病理号='2017-05588', 颜色风格=2, 肿瘤分布=1, 标注程度=2, 文件名=20190404140844.0, 来源=2019.0, 描述=nan, cut=nan, 测试集=1.0)\n",
      "Pandas(Index=7, 病理号='2017-11739', 颜色风格=2, 肿瘤分布=1, 标注程度=1, 文件名=20190403115208.0, 来源=2019.0, 描述=nan, cut=1.0, 测试集=nan)\n",
      "Pandas(Index=8, 病理号='2017-12386', 颜色风格=2, 肿瘤分布=1, 标注程度=1, 文件名=20190404134923.0, 来源=2019.0, 描述=nan, cut=nan, 测试集=nan)\n",
      "Pandas(Index=9, 病理号='2017-12889', 颜色风格=2, 肿瘤分布=1, 标注程度=3, 文件名=20190404140813.0, 来源=2019.0, 描述=nan, cut=nan, 测试集=nan)\n",
      "Pandas(Index=10, 病理号='2017-13252', 颜色风格=2, 肿瘤分布=1, 标注程度=1, 文件名=20190404140854.0, 来源=2019.0, 描述=nan, cut=nan, 测试集=nan)\n",
      "Pandas(Index=11, 病理号='2017-13472', 颜色风格=2, 肿瘤分布=4, 标注程度=1, 文件名=20190404140803.0, 来源=2019.0, 描述=nan, cut=nan, 测试集=nan)\n",
      "Pandas(Index=12, 病理号='2018-04805', 颜色风格=2, 肿瘤分布=1, 标注程度=1, 文件名=20190404140823.0, 来源=2019.0, 描述=nan, cut=1.0, 测试集=nan)\n",
      "Pandas(Index=13, 病理号='2018-15902', 颜色风格=2, 肿瘤分布=1, 标注程度=3, 文件名=20190719181431.0, 来源=2019.0, 描述=nan, cut=nan, 测试集=nan)\n",
      "Pandas(Index=14, 病理号='2018-16058', 颜色风格=2, 肿瘤分布=1, 标注程度=1, 文件名=20190718213907.0, 来源=2019.0, 描述=nan, cut=nan, 测试集=nan)\n",
      "Pandas(Index=15, 病理号='2018-16078', 颜色风格=2, 肿瘤分布=1, 标注程度=1, 文件名=20190718212026.0, 来源=2019.0, 描述=nan, cut=nan, 测试集=nan)\n",
      "Pandas(Index=16, 病理号='2018-16078-2', 颜色风格=2, 肿瘤分布=1, 标注程度=1, 文件名=20190719181450.0, 来源=2019.0, 描述=nan, cut=1.0, 测试集=nan)\n",
      "Pandas(Index=17, 病理号='2018-16140', 颜色风格=2, 肿瘤分布=1, 标注程度=3, 文件名=20190718212056.0, 来源=2019.0, 描述=nan, cut=nan, 测试集=nan)\n",
      "Pandas(Index=18, 病理号='2018-16140-2', 颜色风格=2, 肿瘤分布=1, 标注程度=3, 文件名=20190718212106.0, 来源=2019.0, 描述=nan, cut=nan, 测试集=nan)\n",
      "Pandas(Index=19, 病理号='2018-16187', 颜色风格=2, 肿瘤分布='1+3', 标注程度=3, 文件名=20190718213936.0, 来源=2019.0, 描述=nan, cut=nan, 测试集=nan)\n",
      "Pandas(Index=20, 病理号='2018-16612', 颜色风格=2, 肿瘤分布='3+4', 标注程度=3, 文件名=20190718213917.0, 来源=2019.0, 描述=nan, cut=1.0, 测试集=nan)\n",
      "Pandas(Index=21, 病理号='2018-16612-2', 颜色风格=2, 肿瘤分布=4, 标注程度=1, 文件名=20190719181439.0, 来源=2019.0, 描述=nan, cut=1.0, 测试集=nan)\n",
      "Pandas(Index=22, 病理号='2018-16612-3', 颜色风格=2, 肿瘤分布='4+5', 标注程度=1, 文件名=20190719183613.0, 来源=2019.0, 描述=nan, cut=1.0, 测试集=nan)\n",
      "Pandas(Index=23, 病理号='2018-16936', 颜色风格=2, 肿瘤分布=1, 标注程度=1, 文件名=20190412112816.0, 来源=2019.0, 描述=nan, cut=nan, 测试集=nan)\n",
      "Pandas(Index=24, 病理号='2018-16959', 颜色风格=2, 肿瘤分布=1, 标注程度=1, 文件名=20190718215730.0, 来源=2019.0, 描述=nan, cut=nan, 测试集=nan)\n",
      "Pandas(Index=25, 病理号='2019-00102', 颜色风格=1, 肿瘤分布=5, 标注程度=1, 文件名=20190718215740.0, 来源=2019.0, 描述=nan, cut=nan, 测试集=nan)\n",
      "Pandas(Index=26, 病理号='2019-00113', 颜色风格=2, 肿瘤分布=1, 标注程度=1, 文件名=20190412112827.0, 来源=2019.0, 描述=nan, cut=nan, 测试集=nan)\n",
      "Pandas(Index=27, 病理号='2019-00258', 颜色风格=2, 肿瘤分布=1, 标注程度=3, 文件名=20190718210428.0, 来源=2019.0, 描述=nan, cut=nan, 测试集=nan)\n",
      "Pandas(Index=28, 病理号='2019-00258-2', 颜色风格=2, 肿瘤分布=1, 标注程度=3, 文件名=20190718212036.0, 来源=2019.0, 描述=nan, cut=nan, 测试集=nan)\n",
      "Pandas(Index=29, 病理号='2019-00258-3', 颜色风格=3, 肿瘤分布=1, 标注程度=1, 文件名=20190718213926.0, 来源=2019.0, 描述=nan, cut=nan, 测试集=nan)\n",
      "Pandas(Index=30, 病理号='2019-00327', 颜色风格=2, 肿瘤分布=1, 标注程度=1, 文件名=20190718210348.0, 来源=2019.0, 描述=nan, cut=nan, 测试集=nan)\n",
      "Pandas(Index=31, 病理号='2019-00327-2', 颜色风格=2, 肿瘤分布=1, 标注程度=1, 文件名=20190718210418.0, 来源=2019.0, 描述=nan, cut=nan, 测试集=nan)\n",
      "Pandas(Index=32, 病理号='2019-00327-3', 颜色风格=2, 肿瘤分布=1, 标注程度=1, 文件名=20190718215800.0, 来源=2019.0, 描述=nan, cut=nan, 测试集=nan)\n",
      "Pandas(Index=33, 病理号='2019-00334', 颜色风格=2, 肿瘤分布=1, 标注程度=1, 文件名=20190718210408.0, 来源=2019.0, 描述=nan, cut=nan, 测试集=nan)\n",
      "Pandas(Index=34, 病理号='2019-00415', 颜色风格=2, 肿瘤分布=1, 标注程度=1, 文件名=20190412144040.0, 来源=2019.0, 描述=nan, cut=nan, 测试集=nan)\n",
      "Pandas(Index=35, 病理号='2019-00890', 颜色风格=2, 肿瘤分布=1, 标注程度=2, 文件名=20190404134831.0, 来源=2019.0, 描述=nan, cut=nan, 测试集=nan)\n",
      "Pandas(Index=36, 病理号='2019-00890-2', 颜色风格=2, 肿瘤分布=5, 标注程度=1, 文件名=20190412091226.0, 来源=2019.0, 描述=nan, cut=nan, 测试集=nan)\n",
      "Pandas(Index=37, 病理号='2019-00890-3', 颜色风格=2, 肿瘤分布=1, 标注程度=1, 文件名=20190412130826.0, 来源=2019.0, 描述=nan, cut=nan, 测试集=nan)\n",
      "Pandas(Index=38, 病理号='2019-00890-4', 颜色风格=2, 肿瘤分布=1, 标注程度=3, 文件名=20190412130836.0, 来源=2019.0, 描述=nan, cut=nan, 测试集=nan)\n",
      "Pandas(Index=39, 病理号='2019-00898', 颜色风格=2, 肿瘤分布=2, 标注程度=3, 文件名=20190403101949.0, 来源=2019.0, 描述=nan, cut=nan, 测试集=nan)\n",
      "Pandas(Index=40, 病理号='2019-00898-2', 颜色风格=2, 肿瘤分布=3, 标注程度=1, 文件名=20190403115157.0, 来源=2019.0, 描述=nan, cut=1.0, 测试集=nan)\n",
      "Pandas(Index=41, 病理号='2019-00898-3', 颜色风格=2, 肿瘤分布=1, 标注程度=2, 文件名=20190718200932.0, 来源=2019.0, 描述=nan, cut=nan, 测试集=nan)\n",
      "Pandas(Index=42, 病理号='2019-01014', 颜色风格=2, 肿瘤分布=1, 标注程度=1, 文件名=20190403101959.0, 来源=2019.0, 描述=nan, cut=nan, 测试集=1.0)\n",
      "Pandas(Index=43, 病理号='2019-01014-2', 颜色风格=2, 肿瘤分布=1, 标注程度=2, 文件名=20190412091236.0, 来源=2019.0, 描述=nan, cut=nan, 测试集=1.0)\n",
      "Pandas(Index=44, 病理号='2019-01279', 颜色风格=1, 肿瘤分布=1, 标注程度=2, 文件名=20190403094156.0, 来源=2019.0, 描述=nan, cut=nan, 测试集=nan)\n",
      "Pandas(Index=45, 病理号='2019-01279-2', 颜色风格=1, 肿瘤分布=1, 标注程度=1, 文件名=20190403094206.0, 来源=2019.0, 描述=nan, cut=nan, 测试集=nan)\n",
      "Pandas(Index=46, 病理号='2019-01487', 颜色风格=1, 肿瘤分布=1, 标注程度=1, 文件名=20190403101939.0, 来源=2019.0, 描述=nan, cut=nan, 测试集=1.0)\n",
      "Pandas(Index=47, 病理号='2019-01487-2', 颜色风格=1, 肿瘤分布=1, 标注程度=2, 文件名=20190403115146.0, 来源=2019.0, 描述=nan, cut=nan, 测试集=1.0)\n",
      "Pandas(Index=48, 病理号='2019-01581', 颜色风格=2, 肿瘤分布=1, 标注程度=1, 文件名=20190403101027.0, 来源=2019.0, 描述=nan, cut=nan, 测试集=nan)\n",
      "Pandas(Index=49, 病理号='2019-01581-2', 颜色风格=2, 肿瘤分布=2, 标注程度=1, 文件名=20190409182931.0, 来源=2019.0, 描述=nan, cut=nan, 测试集=nan)\n",
      "Pandas(Index=50, 病理号='2019-01581-3', 颜色风格=2, 肿瘤分布=1, 标注程度=3, 文件名=20190409183934.0, 来源=2019.0, 描述=nan, cut=nan, 测试集=nan)\n",
      "Pandas(Index=51, 病理号='2019-01581-4', 颜色风格=2, 肿瘤分布=1, 标注程度=1, 文件名=20190412130806.0, 来源=2019.0, 描述=nan, cut=nan, 测试集=nan)\n",
      "Pandas(Index=52, 病理号='2019-01581-5', 颜色风格=2, 肿瘤分布=1, 标注程度=3, 文件名=20190412130816.0, 来源=2019.0, 描述=nan, cut=nan, 测试集=nan)\n",
      "Pandas(Index=53, 病理号='2019-01588', 颜色风格=2, 肿瘤分布=3, 标注程度=2, 文件名=20190404134841.0, 来源=2019.0, 描述=nan, cut=nan, 测试集=nan)\n",
      "Pandas(Index=54, 病理号='2019-01588-2', 颜色风格=3, 肿瘤分布=2, 标注程度=3, 文件名=20190719181501.0, 来源=2019.0, 描述=nan, cut=nan, 测试集=nan)\n",
      "Pandas(Index=55, 病理号='2019-01665', 颜色风格=3, 肿瘤分布=3, 标注程度=2, 文件名=20190403101908.0, 来源=2019.0, 描述=nan, cut=nan, 测试集=nan)\n",
      "Pandas(Index=56, 病理号='2019-01665-2', 颜色风格=2, 肿瘤分布=1, 标注程度=3, 文件名=20190409144129.0, 来源=2019.0, 描述=nan, cut=nan, 测试集=nan)\n",
      "Pandas(Index=57, 病理号='2019-01708', 颜色风格=3, 肿瘤分布=2, 标注程度=1, 文件名=20190718200940.0, 来源=2019.0, 描述=nan, cut=nan, 测试集=nan)\n",
      "Pandas(Index=58, 病理号='2019-02267', 颜色风格=2, 肿瘤分布=1, 标注程度=1, 文件名=20190403101928.0, 来源=2019.0, 描述=nan, cut=nan, 测试集=nan)\n",
      "Pandas(Index=59, 病理号='2019-02267-2', 颜色风格=2, 肿瘤分布=1, 标注程度=2, 文件名=20190403115136.0, 来源=2019.0, 描述=nan, cut=nan, 测试集=nan)\n",
      "Pandas(Index=60, 病理号='2019-02399', 颜色风格=2, 肿瘤分布=1, 标注程度=1, 文件名=20190403091249.0, 来源=2019.0, 描述=nan, cut=nan, 测试集=nan)\n",
      "Pandas(Index=61, 病理号='2019-02399-2', 颜色风格=2, 肿瘤分布=1, 标注程度=1, 文件名=20190403091259.0, 来源=2019.0, 描述=nan, cut=nan, 测试集=nan)\n",
      "Pandas(Index=62, 病理号='2019-02666', 颜色风格=2, 肿瘤分布=1, 标注程度=1, 文件名=20190403091239.0, 来源=2019.0, 描述=nan, cut=nan, 测试集=1.0)\n",
      "Pandas(Index=63, 病理号='2019-02666-2', 颜色风格=2, 肿瘤分布=3, 标注程度=2, 文件名=20190403094116.0, 来源=2019.0, 描述=nan, cut=nan, 测试集=1.0)\n",
      "Pandas(Index=64, 病理号='2019-02666-3', 颜色风格=2, 肿瘤分布=3, 标注程度=2, 文件名=20190409144119.0, 来源=2019.0, 描述=nan, cut=1.0, 测试集=1.0)\n",
      "Pandas(Index=65, 病理号='2019-02666-4', 颜色风格=2, 肿瘤分布=3, 标注程度=3, 文件名=20190409152251.0, 来源=2019.0, 描述=nan, cut=1.0, 测试集=1.0)\n",
      "Pandas(Index=66, 病理号='2019-02833', 颜色风格=2, 肿瘤分布=2, 标注程度=3, 文件名=20190403091310.0, 来源=2019.0, 描述=nan, cut=nan, 测试集=nan)\n",
      "Pandas(Index=67, 病理号='2019-02833-2', 颜色风格=2, 肿瘤分布=2, 标注程度=1, 文件名=20190403091320.0, 来源=2019.0, 描述=nan, cut=nan, 测试集=nan)\n",
      "Pandas(Index=68, 病理号='2019-02833-3', 颜色风格=2, 肿瘤分布=2, 标注程度=3, 文件名=20190412091216.0, 来源=2019.0, 描述=nan, cut=nan, 测试集=nan)\n",
      "Pandas(Index=69, 病理号='2019-03200', 颜色风格=2, 肿瘤分布=1, 标注程度=3, 文件名=20190412130756.0, 来源=2019.0, 描述=nan, cut=nan, 测试集=nan)\n",
      "Pandas(Index=70, 病理号='2019-03200-2', 颜色风格=2, 肿瘤分布=1, 标注程度=1, 文件名=20190718203759.0, 来源=2019.0, 描述=nan, cut=nan, 测试集=nan)\n",
      "Pandas(Index=71, 病理号='2019-03210', 颜色风格=2, 肿瘤分布=5, 标注程度=3, 文件名=20190718203820.0, 来源=2019.0, 描述=nan, cut=nan, 测试集=nan)\n",
      "Pandas(Index=72, 病理号='2019-03265', 颜色风格=2, 肿瘤分布=2, 标注程度=1, 文件名=20190403083941.0, 来源=2019.0, 描述=nan, cut=nan, 测试集=nan)\n",
      "Pandas(Index=73, 病理号='2019-03276', 颜色风格=2, 肿瘤分布=1, 标注程度=1, 文件名=20190403081013.0, 来源=2019.0, 描述=nan, cut=nan, 测试集=nan)\n",
      "Pandas(Index=74, 病理号='2019-03325', 颜色风格=3, 肿瘤分布=5, 标注程度=1, 文件名=20190718203809.0, 来源=2019.0, 描述=nan, cut=nan, 测试集=nan)\n",
      "Pandas(Index=75, 病理号='2019-03330', 颜色风格=2, 肿瘤分布=3, 标注程度=2, 文件名=20190403080952.0, 来源=2019.0, 描述=nan, cut=nan, 测试集=nan)\n",
      "Pandas(Index=76, 病理号='2019-03330-2', 颜色风格=2, 肿瘤分布=3, 标注程度=3, 文件名=20190403081003.0, 来源=2019.0, 描述=nan, cut=nan, 测试集=nan)\n",
      "Pandas(Index=77, 病理号='2019-03407', 颜色风格=1, 肿瘤分布=1, 标注程度=1, 文件名=20190403080921.0, 来源=2019.0, 描述=nan, cut=nan, 测试集=nan)\n",
      "Pandas(Index=78, 病理号='2019-03407-2', 颜色风格=1, 肿瘤分布=1, 标注程度=1, 文件名=20190403083910.0, 来源=2019.0, 描述=nan, cut=nan, 测试集=nan)\n",
      "Pandas(Index=79, 病理号='2019-03563', 颜色风格=1, 肿瘤分布=2, 标注程度=1, 文件名=20190403080932.0, 来源=2019.0, 描述=nan, cut=1.0, 测试集=nan)\n",
      "Pandas(Index=80, 病理号='2019-03563-2', 颜色风格=1, 肿瘤分布=1, 标注程度=1, 文件名=20190403083921.0, 来源=2019.0, 描述=nan, cut=nan, 测试集=nan)\n",
      "Pandas(Index=81, 病理号='2019-03647', 颜色风格=2, 肿瘤分布=1, 标注程度=1, 文件名=20190718203748.0, 来源=2019.0, 描述=nan, cut=nan, 测试集=nan)\n",
      "Pandas(Index=82, 病理号='2019-04125', 颜色风格=1, 肿瘤分布=5, 标注程度=3, 文件名=20190718200957.0, 来源=2019.0, 描述=nan, cut=1.0, 测试集=nan)\n",
      "Pandas(Index=83, 病理号='2019-04127', 颜色风格=1, 肿瘤分布=1, 标注程度=1, 文件名=20190718200921.0, 来源=2019.0, 描述=nan, cut=nan, 测试集=nan)\n",
      "Pandas(Index=84, 病理号='2019-04343', 颜色风格=2, 肿瘤分布=1, 标注程度=1, 文件名=20190718200949.0, 来源=2019.0, 描述=nan, cut=nan, 测试集=nan)\n",
      "Pandas(Index=85, 病理号='2019-15984', 颜色风格=2, 肿瘤分布=3, 标注程度=1, 文件名=20190718212046.0, 来源=2019.0, 描述=nan, cut=nan, 测试集=1.0)\n",
      "Pandas(Index=86, 病理号='2019-16619', 颜色风格=2, 肿瘤分布=1, 标注程度=2, 文件名=20190412112805.0, 来源=2019.0, 描述=nan, cut=nan, 测试集=nan)\n",
      "Pandas(Index=87, 病理号='2020-07280', 颜色风格=2, 肿瘤分布=5, 标注程度=3, 文件名=nan, 来源=nan, 描述=nan, cut=1.0, 测试集=nan)\n",
      "Pandas(Index=88, 病理号='2020-07344', 颜色风格=2, 肿瘤分布=1, 标注程度=1, 文件名=nan, 来源=nan, 描述=nan, cut=nan, 测试集=nan)\n",
      "Pandas(Index=89, 病理号='2020-07345', 颜色风格=2, 肿瘤分布=2, 标注程度=3, 文件名=nan, 来源=nan, 描述=nan, cut=nan, 测试集=nan)\n",
      "Pandas(Index=90, 病理号='2020-07349', 颜色风格=2, 肿瘤分布=2, 标注程度=1, 文件名=nan, 来源=nan, 描述=nan, cut=nan, 测试集=nan)\n",
      "Pandas(Index=91, 病理号='2020-07356', 颜色风格=2, 肿瘤分布=1, 标注程度=1, 文件名=nan, 来源=nan, 描述=nan, cut=nan, 测试集=nan)\n",
      "Pandas(Index=92, 病理号='2020-07363', 颜色风格=2, 肿瘤分布=2, 标注程度=3, 文件名=nan, 来源=nan, 描述=nan, cut=1.0, 测试集=nan)\n",
      "Pandas(Index=93, 病理号='2020-07451', 颜色风格=3, 肿瘤分布=1, 标注程度=2, 文件名=nan, 来源=nan, 描述=nan, cut=nan, 测试集=1.0)\n",
      "Pandas(Index=94, 病理号='2020-07484-2', 颜色风格=2, 肿瘤分布=1, 标注程度=2, 文件名=nan, 来源=nan, 描述=nan, cut=1.0, 测试集=1.0)\n",
      "Pandas(Index=95, 病理号='2020-07512', 颜色风格=2, 肿瘤分布=2, 标注程度=2, 文件名=nan, 来源=nan, 描述=nan, cut=nan, 测试集=1.0)\n",
      "Pandas(Index=96, 病理号='2020-07746', 颜色风格=2, 肿瘤分布='2+5', 标注程度=1, 文件名=nan, 来源=nan, 描述=nan, cut=nan, 测试集=nan)\n",
      "Pandas(Index=97, 病理号='2020-07764', 颜色风格=2, 肿瘤分布=1, 标注程度=2, 文件名=nan, 来源=nan, 描述=nan, cut=nan, 测试集=nan)\n",
      "Pandas(Index=98, 病理号='2020-07764-2', 颜色风格=2, 肿瘤分布=1, 标注程度=1, 文件名=nan, 来源=nan, 描述=nan, cut=nan, 测试集=nan)\n",
      "Pandas(Index=99, 病理号='2020-07764-3', 颜色风格=2, 肿瘤分布=1, 标注程度=1, 文件名=nan, 来源=nan, 描述=nan, cut=nan, 测试集=nan)\n",
      "Pandas(Index=100, 病理号='2020-07769-2', 颜色风格=2, 肿瘤分布=2, 标注程度=2, 文件名=nan, 来源=nan, 描述=nan, cut=nan, 测试集=nan)\n",
      "Pandas(Index=101, 病理号='2020-07912', 颜色风格=2, 肿瘤分布=1, 标注程度=2, 文件名=nan, 来源=nan, 描述=nan, cut=1.0, 测试集=1.0)\n",
      "Pandas(Index=102, 病理号='2020-07912-2', 颜色风格=2, 肿瘤分布=1, 标注程度=2, 文件名=nan, 来源=nan, 描述=nan, cut=nan, 测试集=1.0)\n",
      "Pandas(Index=103, 病理号='2020-07916', 颜色风格=2, 肿瘤分布=1, 标注程度=2, 文件名=nan, 来源=nan, 描述=nan, cut=1.0, 测试集=nan)\n",
      "Pandas(Index=104, 病理号='2020-07933', 颜色风格=2, 肿瘤分布=3, 标注程度=2, 文件名=nan, 来源=nan, 描述=nan, cut=nan, 测试集=1.0)\n",
      "Pandas(Index=105, 病理号='2020-08200', 颜色风格=2, 肿瘤分布=5, 标注程度=2, 文件名=nan, 来源=nan, 描述=nan, cut=nan, 测试集=1.0)\n",
      "Pandas(Index=106, 病理号='2020-08200-2', 颜色风格=2, 肿瘤分布=1, 标注程度=2, 文件名=nan, 来源=nan, 描述=nan, cut=nan, 测试集=1.0)\n",
      "Pandas(Index=107, 病理号='2020-08348', 颜色风格=3, 肿瘤分布=1, 标注程度=2, 文件名=nan, 来源=nan, 描述=nan, cut=1.0, 测试集=1.0)\n",
      "Pandas(Index=108, 病理号='2020-08348-2', 颜色风格=3, 肿瘤分布=2, 标注程度=2, 文件名=nan, 来源=nan, 描述='黏膜过小', cut=1.0, 测试集=1.0)\n",
      "Pandas(Index=109, 病理号='2020-08348-3', 颜色风格=3, 肿瘤分布=5, 标注程度=1, 文件名=nan, 来源=nan, 描述=nan, cut=1.0, 测试集=1.0)\n",
      "Pandas(Index=110, 病理号='2020-08348-4', 颜色风格=3, 肿瘤分布=1, 标注程度=1, 文件名=nan, 来源=nan, 描述=nan, cut=1.0, 测试集=1.0)\n",
      "Pandas(Index=111, 病理号='2020-08370', 颜色风格=3, 肿瘤分布=1, 标注程度=2, 文件名=nan, 来源=nan, 描述=nan, cut=nan, 测试集=1.0)\n",
      "Pandas(Index=112, 病理号='2020-08595', 颜色风格=2, 肿瘤分布=4, 标注程度=2, 文件名=nan, 来源=nan, 描述=nan, cut=1.0, 测试集=1.0)\n",
      "Pandas(Index=113, 病理号='2020-08595-2', 颜色风格=2, 肿瘤分布=4, 标注程度=2, 文件名=nan, 来源=nan, 描述=nan, cut=1.0, 测试集=1.0)\n",
      "Pandas(Index=114, 病理号='2020-08595-3', 颜色风格=2, 肿瘤分布=4, 标注程度=2, 文件名=nan, 来源=nan, 描述=nan, cut=1.0, 测试集=1.0)\n",
      "Pandas(Index=115, 病理号='2020-08752-2', 颜色风格=3, 肿瘤分布=1, 标注程度=2, 文件名=nan, 来源=nan, 描述=nan, cut=1.0, 测试集=1.0)\n",
      "Pandas(Index=116, 病理号='2020-08808', 颜色风格=2, 肿瘤分布=1, 标注程度=1, 文件名=nan, 来源=nan, 描述='多块黏膜', cut=nan, 测试集=nan)\n",
      "Pandas(Index=117, 病理号='2020-08808-2', 颜色风格=2, 肿瘤分布=5, 标注程度=2, 文件名=nan, 来源=nan, 描述=nan, cut=nan, 测试集=nan)\n",
      "Pandas(Index=118, 病理号='2020-08812-2', 颜色风格=2, 肿瘤分布=1, 标注程度=2, 文件名=nan, 来源=nan, 描述=nan, cut=nan, 测试集=1.0)\n",
      "Pandas(Index=119, 病理号='2020-09017', 颜色风格=2, 肿瘤分布='2+5', 标注程度=2, 文件名=nan, 来源=nan, 描述=nan, cut=1.0, 测试集=1.0)\n",
      "Pandas(Index=120, 病理号='2020-09043', 颜色风格=2, 肿瘤分布='1+3', 标注程度=2, 文件名=nan, 来源=nan, 描述=nan, cut=1.0, 测试集=nan)\n",
      "Pandas(Index=121, 病理号='2020-09214-2', 颜色风格=2, 肿瘤分布='5+3', 标注程度=1, 文件名=nan, 来源=nan, 描述=nan, cut=nan, 测试集=nan)\n",
      "Pandas(Index=122, 病理号='2020-09387', 颜色风格=2, 肿瘤分布=5, 标注程度=2, 文件名=nan, 来源=nan, 描述=nan, cut=nan, 测试集=1.0)\n",
      "Pandas(Index=123, 病理号='2020-09467', 颜色风格=2, 肿瘤分布=5, 标注程度=1, 文件名=nan, 来源=nan, 描述=nan, cut=nan, 测试集=nan)\n",
      "Pandas(Index=124, 病理号='2020-09612', 颜色风格=2, 肿瘤分布=3, 标注程度=2, 文件名=nan, 来源=nan, 描述=nan, cut=nan, 测试集=nan)\n",
      "Pandas(Index=125, 病理号='2020-09613', 颜色风格=2, 肿瘤分布=1, 标注程度=2, 文件名=nan, 来源=nan, 描述=nan, cut=nan, 测试集=nan)\n",
      "Pandas(Index=126, 病理号='2020-09613-3', 颜色风格=2, 肿瘤分布='3+5', 标注程度=1, 文件名=nan, 来源=nan, 描述=nan, cut=nan, 测试集=nan)\n",
      "Pandas(Index=127, 病理号='2020-09613-4', 颜色风格=2, 肿瘤分布=5, 标注程度=1, 文件名=nan, 来源=nan, 描述=nan, cut=1.0, 测试集=nan)\n",
      "Pandas(Index=128, 病理号='2020-09692', 颜色风格=2, 肿瘤分布=2, 标注程度=2, 文件名=nan, 来源=nan, 描述=nan, cut=1.0, 测试集=nan)\n",
      "Pandas(Index=129, 病理号='2020-09692-3', 颜色风格=2, 肿瘤分布=2, 标注程度=2, 文件名=nan, 来源=nan, 描述=nan, cut=1.0, 测试集=nan)\n",
      "Pandas(Index=130, 病理号='2020-09692-5', 颜色风格=2, 肿瘤分布=2, 标注程度=1, 文件名=nan, 来源=nan, 描述=nan, cut=nan, 测试集=nan)\n",
      "Pandas(Index=131, 病理号='2020-09692-7', 颜色风格=2, 肿瘤分布=5, 标注程度=2, 文件名=nan, 来源=nan, 描述=nan, cut=nan, 测试集=nan)\n",
      "Pandas(Index=132, 病理号='2020-09837', 颜色风格=1, 肿瘤分布=3, 标注程度=2, 文件名=nan, 来源=nan, 描述=nan, cut=nan, 测试集=1.0)\n",
      "Pandas(Index=133, 病理号='2020-10140', 颜色风格=1, 肿瘤分布=1, 标注程度=2, 文件名=nan, 来源=nan, 描述=nan, cut=1.0, 测试集=1.0)\n",
      "Pandas(Index=134, 病理号='2020-10161', 颜色风格=1, 肿瘤分布='1+4', 标注程度=1, 文件名=nan, 来源=nan, 描述=nan, cut=1.0, 测试集=nan)\n",
      "Pandas(Index=135, 病理号='2020-10318', 颜色风格=1, 肿瘤分布=1, 标注程度=1, 文件名=nan, 来源=nan, 描述=nan, cut=nan, 测试集=nan)\n",
      "Pandas(Index=136, 病理号='2020-10407', 颜色风格=1, 肿瘤分布=2, 标注程度=1, 文件名=nan, 来源=nan, 描述=nan, cut=nan, 测试集=1.0)\n",
      "Pandas(Index=137, 病理号='2020-10463', 颜色风格=1, 肿瘤分布='2+5', 标注程度=1, 文件名=nan, 来源=nan, 描述=nan, cut=1.0, 测试集=nan)\n",
      "Pandas(Index=138, 病理号='2020-10463-2', 颜色风格=1, 肿瘤分布=5, 标注程度=2, 文件名=nan, 来源=nan, 描述=nan, cut=nan, 测试集=nan)\n",
      "Pandas(Index=139, 病理号='2020-10519', 颜色风格=1, 肿瘤分布=1, 标注程度=2, 文件名=nan, 来源=nan, 描述=nan, cut=nan, 测试集=1.0)\n",
      "Pandas(Index=140, 病理号='2020-10575', 颜色风格=2, 肿瘤分布=3, 标注程度=3, 文件名=nan, 来源=nan, 描述=nan, cut=nan, 测试集=nan)\n",
      "Pandas(Index=141, 病理号='2020-10759', 颜色风格=1, 肿瘤分布=5, 标注程度=2, 文件名=nan, 来源=nan, 描述=nan, cut=nan, 测试集=1.0)\n",
      "Pandas(Index=142, 病理号='2020-10759-3', 颜色风格=2, 肿瘤分布=4, 标注程度=2, 文件名=nan, 来源=nan, 描述=nan, cut=1.0, 测试集=1.0)\n",
      "Pandas(Index=143, 病理号='2020-10769', 颜色风格=2, 肿瘤分布=2, 标注程度=2, 文件名=nan, 来源=nan, 描述=nan, cut=nan, 测试集=nan)\n"
     ]
    }
   ],
   "source": [
    "part_xlsx = '/media/ldy/7E1CA94545711AE6/OSCC/口腔鳞癌数据集-part.xlsx'\n",
    "part_meta = pd.read_excel(part_xlsx)\n",
    "part_info = {}\n",
    "for c in part_meta.itertuples():\n",
    "    print(c)\n",
    "    if c[9] == 1 or c[9] == 1.0:\n",
    "        part_info[c[1]] = tuple([c[3], int(c[4])])"
   ]
  },
  {
   "cell_type": "code",
   "execution_count": 85,
   "metadata": {},
   "outputs": [
    {
     "data": {
      "text/plain": [
       "{'2017-05588': (1, 2),\n",
       " '2019-01014': (1, 1),\n",
       " '2019-01014-2': (1, 2),\n",
       " '2019-01487': (1, 1),\n",
       " '2019-01487-2': (1, 2),\n",
       " '2019-02666': (1, 1),\n",
       " '2019-02666-2': (3, 2),\n",
       " '2019-02666-3': (3, 2),\n",
       " '2019-02666-4': (3, 3),\n",
       " '2019-15984': (3, 1),\n",
       " '2020-07451': (1, 2),\n",
       " '2020-07484-2': (1, 2),\n",
       " '2020-07512': (2, 2),\n",
       " '2020-07912': (1, 2),\n",
       " '2020-07912-2': (1, 2),\n",
       " '2020-07933': (3, 2),\n",
       " '2020-08200': (5, 2),\n",
       " '2020-08200-2': (1, 2),\n",
       " '2020-08348': (1, 2),\n",
       " '2020-08348-2': (2, 2),\n",
       " '2020-08348-3': (5, 1),\n",
       " '2020-08348-4': (1, 1),\n",
       " '2020-08370': (1, 2),\n",
       " '2020-08595': (4, 2),\n",
       " '2020-08595-2': (4, 2),\n",
       " '2020-08595-3': (4, 2),\n",
       " '2020-08752-2': (1, 2),\n",
       " '2020-08812-2': (1, 2),\n",
       " '2020-09017': ('2+5', 2),\n",
       " '2020-09387': (5, 2),\n",
       " '2020-09837': (3, 2),\n",
       " '2020-10140': (1, 2),\n",
       " '2020-10407': (2, 1),\n",
       " '2020-10519': (1, 2),\n",
       " '2020-10759': (5, 2),\n",
       " '2020-10759-3': (4, 2)}"
      ]
     },
     "execution_count": 85,
     "metadata": {},
     "output_type": "execute_result"
    }
   ],
   "source": [
    "part_info"
   ]
  },
  {
   "cell_type": "code",
   "execution_count": 86,
   "metadata": {},
   "outputs": [
    {
     "name": "stdout",
     "output_type": "stream",
     "text": [
      "[18, 4, 6, 4, 5]\n"
     ]
    }
   ],
   "source": [
    "space = [0]*5\n",
    "for k, v in part_info.items():\n",
    "    if isinstance(v[0], int):\n",
    "        space[v[0]-1] += 1\n",
    "    else:\n",
    "        t1, t2 = v[0].split('+')\n",
    "        space[int(t1)-1] += 1\n",
    "        space[int(t2)-1] += 1\n",
    "print(space)"
   ]
  },
  {
   "cell_type": "code",
   "execution_count": 87,
   "metadata": {},
   "outputs": [
    {
     "data": {
      "text/plain": [
       "36"
      ]
     },
     "execution_count": 87,
     "metadata": {},
     "output_type": "execute_result"
    }
   ],
   "source": [
    "len(part_info.keys())"
   ]
  },
  {
   "cell_type": "markdown",
   "metadata": {},
   "source": [
    "# 生成训练集、验证集"
   ]
  },
  {
   "cell_type": "code",
   "execution_count": 89,
   "metadata": {},
   "outputs": [],
   "source": [
    "import json\n",
    "\n",
    "save_path = '/media/ldy/7E1CA94545711AE6/OSCC/train_val_part.json'\n",
    "\n",
    "train_val = {'train':[], 'val':[]}\n",
    "for c in part_meta['病理号']:\n",
    "    if c in part_info.keys():\n",
    "        train_val['val'].append(c)\n",
    "    else:\n",
    "        train_val['train'].append(c)\n",
    "with open(save_path, 'w') as f:\n",
    "    json.dump(train_val, f)"
   ]
  },
  {
   "cell_type": "code",
   "execution_count": 90,
   "metadata": {},
   "outputs": [
    {
     "data": {
      "text/plain": [
       "144"
      ]
     },
     "execution_count": 90,
     "metadata": {},
     "output_type": "execute_result"
    }
   ],
   "source": [
    "len(train_val['train']) + len(train_val['val'])"
   ]
  },
  {
   "cell_type": "code",
   "execution_count": 102,
   "metadata": {},
   "outputs": [],
   "source": [
    "import shutil\n",
    "\n",
    "src = '/media/ldy/7E1CA94545711AE6/OSCC/5x_mask/rgb_mask/'\n",
    "dst = '/media/ldy/e5a10f4e-18fd-4656-80d8-055bc4078655/OSCC-Tile-v3/5x_mask/rgb_mask/'\n",
    "term = 'val' \n",
    "dst += term\n",
    "\n",
    "for c in train_val[term]:\n",
    "    shutil.copy(os.path.join(src, c+'.png'), os.path.join(dst, c+'.png'))"
   ]
  },
  {
   "cell_type": "markdown",
   "metadata": {},
   "source": [
    "# 生成csv文件"
   ]
  },
  {
   "cell_type": "code",
   "execution_count": 103,
   "metadata": {},
   "outputs": [],
   "source": [
    "def generate_dataset_csv(data_dir, slide_list,  name, save_dir):\n",
    "    res = []\n",
    "    for slide in slide_list:\n",
    "        slide_dir = os.path.join(data_dir, slide)\n",
    "        for patch in os.listdir(slide_dir):\n",
    "            info = {}\n",
    "            info['slide_id'] = slide \n",
    "            info['image_id'] = patch \n",
    "            row, col = parse_patch_name(patch)\n",
    "            info['row'] = row \n",
    "            info['col'] = col \n",
    "            res.append(info)\n",
    "    \n",
    "    print(\"{} patches!\".format(len(res)))\n",
    "    df = pd.DataFrame(res, columns=['image_id', 'slide_id', 'row', 'col'])\n",
    "    df.to_csv(os.path.join(save_dir, name))\n",
    "\n",
    "\n",
    "def parse_patch_name(patch):\n",
    "    info = patch.split('_')\n",
    "    row = int(info[-3])\n",
    "    col = int(info[-2])\n",
    "\n",
    "    return row, col \n"
   ]
  },
  {
   "cell_type": "code",
   "execution_count": 107,
   "metadata": {},
   "outputs": [
    {
     "name": "stdout",
     "output_type": "stream",
     "text": [
      "1575 patches!\n"
     ]
    }
   ],
   "source": [
    "data_dir = '/media/ldy/7E1CA94545711AE6/OSCC/5x_tile/5x_3020/patch/'\n",
    "save_dir = '/media/ldy/7E1CA94545711AE6/OSCC/5x_tile/5x_3020/'\n",
    "term = 'train'\n",
    "slide_list = train_val[term]\n",
    "name = term + '.csv'\n",
    "\n",
    "generate_dataset_csv(data_dir, slide_list, name, save_dir)"
   ]
  },
  {
   "cell_type": "markdown",
   "metadata": {},
   "source": [
    "# 生成csv文件 GL"
   ]
  },
  {
   "cell_type": "code",
   "execution_count": 121,
   "metadata": {},
   "outputs": [],
   "source": [
    "def generate_dataset_csv_global(data_dir, slide_list, name, save_dir):\n",
    "    res = []\n",
    "    for slide in slide_list:\n",
    "        slide_dir = os.path.join(data_dir, slide)\n",
    "        for patch in os.listdir(slide_dir):\n",
    "            if patch.endswith('.png'):\n",
    "                info = {}\n",
    "                info['slide_id'] = slide \n",
    "                info['image_id'] = patch \n",
    "                row, col = parse_global_patch_name(patch)\n",
    "                info['row'] = row \n",
    "                info['col'] = col \n",
    "                res.append(info)\n",
    "    \n",
    "    print(\"{} patches!\".format(len(res)))\n",
    "    df = pd.DataFrame(res, columns=['image_id', 'slide_id', 'row', 'col'])\n",
    "    df.to_csv(os.path.join(save_dir, name))\n",
    "\n",
    "\n",
    "def generate_dataset_csv_local(data_dir, slide_list, name, save_dir):\n",
    "    res = []\n",
    "    for slide in slide_list:\n",
    "        slide_dir = os.path.join(data_dir, slide)\n",
    "        for tile in os.listdir(slide_dir):\n",
    "            if not tile.endswith('.png'):\n",
    "                tile_dir = os.path.join(slide_dir, tile)\n",
    "                for patch in os.listdir(tile_dir):\n",
    "                    info = {}\n",
    "                    info['slide_id'] = slide \n",
    "                    info['tile_id'] = tile\n",
    "                    info['image_id'] = patch \n",
    "                    row, col, x, y = parse_local_patch_name(patch)\n",
    "                    info['row'] = row \n",
    "                    info['col'] = col \n",
    "                    info['x'] = x\n",
    "                    info['y'] = y\n",
    "                    res.append(info)\n",
    "    \n",
    "    print(\"{} patches!\".format(len(res)))\n",
    "    df = pd.DataFrame(res, columns=['image_id', 'slide_id', 'row', 'col', 'x', 'y'])\n",
    "    df.to_csv(os.path.join(save_dir, name))\n",
    "\n",
    "\n",
    "def parse_global_patch_name(patch):\n",
    "    info = patch.split('_')\n",
    "    row = int(info[-3])\n",
    "    col = int(info[-2])\n",
    "\n",
    "    return row, col \n",
    "\n",
    "def parse_local_patch_name(patch):\n",
    "    info = patch.split('_')\n",
    "    row = int(info[1])\n",
    "    col = int(info[2])\n",
    "    x = int(info[3])\n",
    "    y = int(info[4])\n",
    "\n",
    "    return row, col, x, y "
   ]
  },
  {
   "cell_type": "code",
   "execution_count": 123,
   "metadata": {},
   "outputs": [
    {
     "name": "stdout",
     "output_type": "stream",
     "text": [
      "1312 patches!\n"
     ]
    }
   ],
   "source": [
    "data_dir = '/media/ldy/7E1CA94545711AE6/OSCC/5x_tile/5x_gl_3020-v2/std_mask/'\n",
    "save_dir = '/media/ldy/7E1CA94545711AE6/OSCC/5x_tile/5x_gl_3020-v2/'\n",
    "term = 'train'\n",
    "slide_list = train_val[term]\n",
    "opt = 'global'\n",
    "name = term + '_' + opt + '.csv'\n",
    "\n",
    "generate_dataset_csv_global(data_dir, slide_list, name, save_dir)"
   ]
  },
  {
   "cell_type": "code",
   "execution_count": 125,
   "metadata": {},
   "outputs": [
    {
     "name": "stdout",
     "output_type": "stream",
     "text": [
      "7056 patches!\n"
     ]
    }
   ],
   "source": [
    "data_dir = '/media/ldy/7E1CA94545711AE6/OSCC/5x_tile/5x_gl_3020-v2/std_mask/'\n",
    "save_dir = '/media/ldy/7E1CA94545711AE6/OSCC/5x_tile/5x_gl_3020-v2/'\n",
    "term = 'val'\n",
    "slide_list = train_val[term]\n",
    "opt = 'local'\n",
    "name = term + '_' + opt + '.csv'\n",
    "\n",
    "generate_dataset_csv_local(data_dir, slide_list, name, save_dir)"
   ]
  },
  {
   "cell_type": "code",
   "execution_count": 118,
   "metadata": {},
   "outputs": [],
   "source": [
    "import torch\n",
    "\n",
    "a = torch.ones((3, 4), dtype=torch.long)\n",
    "a[1,2] = 3\n",
    "a[2,2] = 4"
   ]
  },
  {
   "cell_type": "code",
   "execution_count": 120,
   "metadata": {},
   "outputs": [
    {
     "data": {
      "text/plain": [
       "tensor([[1, 1, 1, 1],\n",
       "        [1, 1, 2, 1],\n",
       "        [1, 1, 2, 1]])"
      ]
     },
     "execution_count": 120,
     "metadata": {},
     "output_type": "execute_result"
    }
   ],
   "source": [
    "torch.clamp(a, max=2)"
   ]
  },
  {
   "cell_type": "code",
   "execution_count": 164,
   "metadata": {},
   "outputs": [],
   "source": [
    "import numpy as np\n",
    "from PIL import Image\n",
    "\n",
    "path = '/media/ldy/7E1CA94545711AE6/OSCC/5x_tile/5x_gl_3020/std_mask/2020-09612/2020-09612_2_2_.png'\n",
    "\n",
    "img = np.array(Image.open(path))"
   ]
  },
  {
   "cell_type": "code",
   "execution_count": 175,
   "metadata": {},
   "outputs": [],
   "source": [
    "src = '/media/ldy/7E1CA94545711AE6/OSCC/5x_tile/5x_3020/std_mask/'\n",
    "\n",
    "for slide in os.listdir(src):\n",
    "    slide_dir = os.path.join(src, slide)\n",
    "    for patch in os.listdir(slide_dir):\n",
    "        patch_path = os.path.join(slide_dir, patch)\n",
    "        img = np.array(Image.open(patch_path))\n",
    "        num = sum(sum(img>3))\n",
    "        if num > 0:\n",
    "            print(patch)"
   ]
  },
  {
   "cell_type": "code",
   "execution_count": 96,
   "metadata": {},
   "outputs": [],
   "source": [
    "import numpy as np\n",
    "from PIL import Image\n",
    "\n",
    "def fill_image(np_img):\n",
    "    h, w, _ = np_img.shape\n",
    "    new_img = np.zeros((3020, w, 3), dtype='uint8') # * 255\n",
    "    start = (3020 - h) // 2\n",
    "    new_img[start:start+h, :, :] = np_img\n",
    "    \n",
    "    return new_img\n",
    "\n",
    "def fill_image2(np_img):\n",
    "    h, w = np_img.shape\n",
    "    new_img = np.zeros((3020, w), dtype='uint8')\n",
    "    start = (3020 - h) // 2\n",
    "    new_img[start:start+h, :] = np_img\n",
    "    \n",
    "    return new_img\n",
    "\n",
    "path = '/media/ldy/7E1CA94545711AE6/OSCC-王/fine/processed data/full_anno/std_mask_slide/2018-16294.png'\n",
    "img = np.array(Image.open(path))\n",
    "new_img = fill_image2(img)\n",
    "new_img = Image.fromarray(new_img)\n",
    "new_img.save(path)"
   ]
  },
  {
   "cell_type": "code",
   "execution_count": null,
   "metadata": {},
   "outputs": [],
   "source": []
  }
 ],
 "metadata": {
  "kernelspec": {
   "display_name": "Pytorch",
   "language": "python",
   "name": "pytorch"
  },
  "language_info": {
   "codemirror_mode": {
    "name": "ipython",
    "version": 3
   },
   "file_extension": ".py",
   "mimetype": "text/x-python",
   "name": "python",
   "nbconvert_exporter": "python",
   "pygments_lexer": "ipython3",
   "version": "3.6.7"
  }
 },
 "nbformat": 4,
 "nbformat_minor": 2
}
